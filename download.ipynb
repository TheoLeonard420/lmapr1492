{
 "cells": [
  {
   "cell_type": "code",
   "execution_count": 1,
   "id": "accepted-fortune",
   "metadata": {},
   "outputs": [],
   "source": [
    "from pymatgen.io.cif import CifWriter\n",
    "from pymatgen.ext.matproj import MPRester\n"
   ]
  },
  {
   "cell_type": "code",
   "execution_count": 2,
   "id": "committed-andorra",
   "metadata": {},
   "outputs": [],
   "source": [
    "with MPRester(\"OagdrlTwLXSmV3tf\") as m:\n",
    "    \n",
    "    # Structure for material id\n",
    "    structure = m.get_structure_by_material_id(\"mp-1023924\")\n",
    "\n",
    "    # Dos for material id\n",
    "    dos = m.get_dos_by_material_id(\"mp-1023924\")\n",
    "\n",
    "    # Bandstructure for material id\n",
    "    bandstructure = m.get_bandstructure_by_material_id(\"mp-1023924\")\n",
    "    \n",
    "    #Write new cif file \n",
    "    newCIF = CifWriter(structure)\n",
    "    newCIF.write_file('MoS2_mp-1023924.cif')"
   ]
  },
  {
   "cell_type": "code",
   "execution_count": null,
   "id": "western-shopper",
   "metadata": {},
   "outputs": [],
   "source": []
  }
 ],
 "metadata": {
  "kernelspec": {
   "display_name": "Python 3",
   "language": "python",
   "name": "python3"
  },
  "language_info": {
   "codemirror_mode": {
    "name": "ipython",
    "version": 3
   },
   "file_extension": ".py",
   "mimetype": "text/x-python",
   "name": "python",
   "nbconvert_exporter": "python",
   "pygments_lexer": "ipython3",
   "version": "3.6.8"
  }
 },
 "nbformat": 4,
 "nbformat_minor": 5
}

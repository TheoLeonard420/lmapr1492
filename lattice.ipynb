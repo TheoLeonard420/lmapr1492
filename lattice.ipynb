{
 "cells": [
  {
   "cell_type": "code",
   "execution_count": 38,
   "id": "quality-perception",
   "metadata": {},
   "outputs": [],
   "source": [
    "from pymatgen.io.cif import CifWriter\n",
    "from pymatgen.ext.matproj import MPRester\n",
    "from pymatgen import Structure, Lattice\n",
    "from pymatgen.symmetry.analyzer import SpacegroupAnalyzer\n"
   ]
  },
  {
   "cell_type": "code",
   "execution_count": 39,
   "id": "distinct-sherman",
   "metadata": {},
   "outputs": [
    {
     "name": "stdout",
     "output_type": "stream",
     "text": [
      "3.190315 0.000000 0.000000\n",
      "-1.595157 2.762894 0.000000\n",
      "0.000000 0.000000 17.439502\n"
     ]
    }
   ],
   "source": [
    "with MPRester(\"OagdrlTwLXSmV3tf\") as m:\n",
    "    \n",
    "    # Structure for material id\n",
    "    structure = m.get_structure_by_material_id(\"mp-1023924\")\n",
    "    \n",
    "    \n",
    "    space = SpacegroupAnalyzer(structure)\n",
    "\n",
    "    # Dos for material id\n",
    "    #dos = m.get_dos_by_material_id(\"mp-1023924\")\n",
    "\n",
    "    # Bandstructure for material id\n",
    "    #bandstructure = m.get_bandstructure_by_material_id(\"mp-1023924\")\n",
    "    \n",
    "    \n",
    "    lattice = Lattice.from_parameters(a=3.190315,b=3.190315,c=17.439502,alpha=90.000000,beta=90.000000,gamma=119.999987)\n",
    "    \n",
    "    print(lattice)"
   ]
  },
  {
   "cell_type": "code",
   "execution_count": 50,
   "id": "chronic-doubt",
   "metadata": {},
   "outputs": [
    {
     "name": "stdout",
     "output_type": "stream",
     "text": [
      "J'ai regarder la structure : \n",
      "\n",
      "Full Formula (Mo1 S2)\n",
      "Reduced Formula: MoS2\n",
      "abc   :   3.190315   3.190315  17.439502\n",
      "angles:  90.000000  90.000000 119.999987\n",
      "Sites (3)\n",
      "  #  SP           a         b         c    magmom\n",
      "---  ----  --------  --------  --------  --------\n",
      "  0  Mo    0         0         0               -0\n",
      "  1  S     0.333333  0.666667  0.089732        -0\n",
      "  2  S     0.333333  0.666667  0.910268        -0\n",
      "\n",
      "On a donc comme longueurs pour le réseaux direct :\n",
      "(3.190315, 3.1903149999999996, 17.439502)\n",
      "\n",
      "Et pour le réseaux réciproque :\n",
      "(2.2741317100445673, 2.2741317100445673, 0.3602846748249799)\n",
      "\n",
      "On aura donc comme vecteurs de base pour le réseaux direct: \n",
      "[3.190315, 0, 0] [0, 3.1903149999999996, 0] [0, 0, 17.439502]\n",
      "\n",
      "Et comme vecteurs de base pour le réseaux réciproque : \n",
      "[2.2741317100445673, 0, 0] [0, 2.2741317100445673, 0] [0, 0, 0.3602846748249799]\n"
     ]
    }
   ],
   "source": [
    "print(\"J'ai regarder la structure : \")\n",
    "print(\"\")\n",
    "print(structure)\n",
    "\n",
    "matrix = lattice.matrix\n",
    "\n",
    "#Depuis les données de ma structure je crée la lattice \n",
    "lattice = Lattice.from_parameters(a=3.190315,b=3.190315,c=17.439502,alpha=90.000000,beta=90.000000,gamma=119.999987)\n",
    "print(\"\")\n",
    "#Vecteurs de bases du réseaux direct \n",
    "print(\"On a donc comme longueurs pour le réseaux direct :\")\n",
    "print(lattice.lengths)\n",
    "\n",
    "#Vecteurs de bases du réseaux réciproque \n",
    "recip_lattice = lattice.reciprocal_lattice\n",
    "reciprocal_lattice = Lattice(recip_lattice.matrix)\n",
    "print(\"\")\n",
    "print(\"Et pour le réseaux réciproque :\")\n",
    "print(reciprocal_lattice.lengths)\n",
    "print(\"\")\n",
    "print(\"On aura donc comme vecteurs de base pour le réseaux direct: \")\n",
    "print([lattice.lengths[0],0,0], [0,lattice.lengths[1],0], [0,0,lattice.lengths[2]])\n",
    "print(\"\")\n",
    "print(\"Et comme vecteurs de base pour le réseaux réciproque : \")\n",
    "print([reciprocal_lattice.lengths[0],0,0], [0,reciprocal_lattice.lengths[1],0], [0,0,reciprocal_lattice.lengths[2]])"
   ]
  },
  {
   "cell_type": "code",
   "execution_count": 41,
   "id": "powerful-newsletter",
   "metadata": {},
   "outputs": [
    {
     "name": "stdout",
     "output_type": "stream",
     "text": [
      "Le type de maille du MoS2 est : hexagonal\n"
     ]
    }
   ],
   "source": [
    "#Type de maille \n",
    "print(\"Le type de maille du MoS2 est :\" ,space.get_lattice_type())\n"
   ]
  },
  {
   "cell_type": "code",
   "execution_count": 42,
   "id": "through-macro",
   "metadata": {},
   "outputs": [
    {
     "name": "stdout",
     "output_type": "stream",
     "text": [
      "Le groupe cristallin du MoS2 est : hexagonal\n"
     ]
    }
   ],
   "source": [
    "#Groupe cristallin\n",
    "print(\"Le groupe cristallin du MoS2 est :\", space.get_crystal_system())"
   ]
  },
  {
   "cell_type": "code",
   "execution_count": 43,
   "id": "rational-scholar",
   "metadata": {},
   "outputs": [
    {
     "name": "stdout",
     "output_type": "stream",
     "text": [
      "Le groupe ponctuel du MoS2 est : -6m2\n"
     ]
    }
   ],
   "source": [
    "#Groupe Ponctuel\n",
    "print(\"Le groupe ponctuel du MoS2 est :\",space.get_point_group_symbol())"
   ]
  },
  {
   "cell_type": "code",
   "execution_count": null,
   "id": "hearing-defeat",
   "metadata": {},
   "outputs": [],
   "source": []
  }
 ],
 "metadata": {
  "kernelspec": {
   "display_name": "Python 3",
   "language": "python",
   "name": "python3"
  },
  "language_info": {
   "codemirror_mode": {
    "name": "ipython",
    "version": 3
   },
   "file_extension": ".py",
   "mimetype": "text/x-python",
   "name": "python",
   "nbconvert_exporter": "python",
   "pygments_lexer": "ipython3",
   "version": "3.6.8"
  }
 },
 "nbformat": 4,
 "nbformat_minor": 5
}

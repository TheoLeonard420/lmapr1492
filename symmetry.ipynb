{
 "cells": [
  {
   "cell_type": "code",
   "execution_count": 69,
   "id": "pacific-wayne",
   "metadata": {},
   "outputs": [],
   "source": [
    "from pymatgen import Lattice, Structure\n",
    "from jupyter_jsmol.pymatgen import quick_view\n",
    "from pymatgen.ext.matproj import MPRester\n",
    "from pymatgen.symmetry.analyzer import SpacegroupAnalyzer\n",
    "from pymatgen.core.operations import SymmOp"
   ]
  },
  {
   "cell_type": "code",
   "execution_count": 62,
   "id": "supposed-animation",
   "metadata": {},
   "outputs": [],
   "source": [
    "#Réecriture de la structure pour l'affichage\n",
    "\n",
    "#coords = [[0, 0, 0], [0.3333,0.6667,0.0897],[0.3333,0.6667,0.9103]]\n",
    "#lattice = Lattice.from_parameters(a=3.19, b=3.19, c=17.440, alpha=90, beta=90, gamma=120)\n",
    "#struct = Structure(lattice, [\"Mo\",\"S\",\"S\"], coords)\n",
    "\n",
    "with MPRester(\"OagdrlTwLXSmV3tf\") as m:\n",
    "    \n",
    "    # Structure for material id\n",
    "    structure = m.get_structure_by_material_id(\"mp-1023924\")\n",
    "space = SpacegroupAnalyzer(structure)"
   ]
  },
  {
   "cell_type": "code",
   "execution_count": 68,
   "id": "incorporated-determination",
   "metadata": {},
   "outputs": [],
   "source": [
    "#Coordonées des différents atomes\n",
    "\n",
    "Mo = [0,0,0]\n",
    "S1 = [0.3333,0.6667,0.0897]\n",
    "S2 = [0.3333,0.6667,0.9103]"
   ]
  },
  {
   "cell_type": "code",
   "execution_count": 101,
   "id": "killing-calgary",
   "metadata": {},
   "outputs": [
    {
     "name": "stdout",
     "output_type": "stream",
     "text": [
      "Après l'opération l'atome de S1 va se retrouver en [ 0.3333  0.6667 -0.0897]\n",
      "On aura comme matrice de rotation associé a cette opération :\n",
      "Rot:\n",
      "[[ 1.  0.  0.]\n",
      " [ 0.  1.  0.]\n",
      " [ 0.  0. -1.]]\n",
      "tau\n",
      "[0. 0. 0.]\n"
     ]
    },
    {
     "data": {
      "application/vnd.jupyter.widget-view+json": {
       "model_id": "8e5bbb3b33e1433f9723ebaafa77ac25",
       "version_major": 2,
       "version_minor": 0
      },
      "text/plain": [
       "JsmolView(layout=Layout(align_self='stretch', height='400px'))"
      ]
     },
     "metadata": {},
     "output_type": "display_data"
    }
   ],
   "source": [
    "#Première opération de symétrie : Réflexion \n",
    "\n",
    "sym1 = SymmOp.from_xyz_string('x,y,-z')\n",
    "op1 = sym1.operate(S1)\n",
    "\n",
    "print(\"Après l'opération l'atome de Souffre va se retrouver en {}\".format(op1))\n",
    "\n",
    "print(\"On aura comme matrice de rotation associé a cette opération :\")\n",
    "print(space.get_symmetry_operations(cartesian=False)[3])\n",
    "\n",
    "view1 = quick_view(structure, conventional=True) \n",
    "display(view1)\n",
    "view1.script(\"draw symop 4 {atomno = 1}\")"
   ]
  },
  {
   "cell_type": "code",
   "execution_count": 104,
   "id": "impressed-commonwealth",
   "metadata": {},
   "outputs": [
    {
     "name": "stdout",
     "output_type": "stream",
     "text": [
      "Après l'opération l'atome de Mo va se retrouver en [0. 0. 0.]\n",
      "On aura comme matrice de rotation associé a cette opération :\n",
      "Rot:\n",
      "[[-1.  1.  0.]\n",
      " [-1.  0.  0.]\n",
      " [ 0.  0. -1.]]\n",
      "tau\n",
      "[0. 0. 0.]\n"
     ]
    },
    {
     "data": {
      "application/vnd.jupyter.widget-view+json": {
       "model_id": "9d13283b0d6f4eb5847709f94ae3d956",
       "version_major": 2,
       "version_minor": 0
      },
      "text/plain": [
       "JsmolView(layout=Layout(align_self='stretch', height='400px'))"
      ]
     },
     "metadata": {},
     "output_type": "display_data"
    }
   ],
   "source": [
    "#Deuxième opération de symétrie : Rotation d'ordre 3\n",
    "\n",
    "sym2 = SymmOp.from_xyz_string('-y,x-y,z')\n",
    "op2 = sym2.operate(Mo)\n",
    "\n",
    "print(\"Après l'opération l'atome de Molybdène va se retrouver en {}\".format(op2))\n",
    "\n",
    "print(\"On aura comme matrice de rotation associé a cette opération :\")\n",
    "print(space.get_symmetry_operations(cartesian=False)[1])\n",
    "\n",
    "view2 = quick_view(structure, conventional=True) \n",
    "display(view2)\n",
    "view2.script(\"draw symop 2 {atomno = 1}\")"
   ]
  },
  {
   "cell_type": "code",
   "execution_count": 105,
   "id": "streaming-alignment",
   "metadata": {},
   "outputs": [
    {
     "name": "stdout",
     "output_type": "stream",
     "text": [
      "Après l'opération l'atome de Mo va se retrouver en [ 0.3334 -0.3333 -0.9103]\n",
      "On aura comme matrice de rotation associé a cette opération :\n",
      "Rot:\n",
      "[[-1.  1.  0.]\n",
      " [-1.  0.  0.]\n",
      " [ 0.  0.  1.]]\n",
      "tau\n",
      "[0. 0. 0.]\n"
     ]
    },
    {
     "data": {
      "application/vnd.jupyter.widget-view+json": {
       "model_id": "de0110b5057147e98ae00c2141096812",
       "version_major": 2,
       "version_minor": 0
      },
      "text/plain": [
       "JsmolView(layout=Layout(align_self='stretch', height='400px'))"
      ]
     },
     "metadata": {},
     "output_type": "display_data"
    }
   ],
   "source": [
    "#Troisième opération de symétrie : Roto-inversion d'ordre 6\n",
    "\n",
    "sym3 = SymmOp.from_xyz_string('-x+y,-x,-z')\n",
    "op3 = sym3.operate(S2)\n",
    "\n",
    "print(\"Après l'opération l'atome de Souffre va se retrouver en {}\".format(op3))\n",
    "\n",
    "print(\"On aura comme matrice de rotation associé a cette opération :\")\n",
    "print(space.get_symmetry_operations(cartesian=False)[4])\n",
    "\n",
    "view3 = quick_view(structure, conventional=True) \n",
    "display(view3)\n",
    "view3.script(\"draw symop 5 {atomno = 2}\")"
   ]
  },
  {
   "cell_type": "markdown",
   "id": "sunset-question",
   "metadata": {},
   "source": [
    "Le cristal de MoS2 possède une maille hexagonale ainsi qu'un groupe spatiale P-6m2\n",
    "\n",
    "- On peut vite remarquer que dans cette maille au système hexagonale nous allons avoir une rotation d'ordre 3 sur les atomes de Souffre autour d'un axe de rotation centrée sur l'atome de Molybdène et paralléle a l'axe c (Opérateur de symétrie : (0,0,z))\n",
    "\n",
    "- On peut ensuite remarquer un plan miroir entre les deux parties de la maille primitive créant une partie identique a l'autre bout de la maille primitive, il s'agit d'une réflexion à partir d'un miroir coupant perpendiculairement l'axe c au milieu de celui ci (Opérateur de symétrie : (x,-x,z))\n",
    "\n",
    "- On remarque finalement une roto-inversion sur l'atome central qui est ici du Molybdène pour créer cette répétition sur les triangles que l'on peut facilement observer sur le plot avec le nombre de maille augmentée. Nous avons donc pour la première symétrie une Roto-inversion d'ordre 6 avec comme centre de rotation et d'inversion la molécule de Molybdène (Opérateur de symétrie : (0,0,z;0,0,0))\n",
    "\n"
   ]
  },
  {
   "cell_type": "code",
   "execution_count": 106,
   "id": "russian-approach",
   "metadata": {},
   "outputs": [
    {
     "data": {
      "application/vnd.jupyter.widget-view+json": {
       "model_id": "cc3654b40433460992d96afaba06e186",
       "version_major": 2,
       "version_minor": 0
      },
      "text/plain": [
       "JsmolView(layout=Layout(align_self='stretch', height='400px'))"
      ]
     },
     "metadata": {},
     "output_type": "display_data"
    }
   ],
   "source": [
    "#Plot de la maille conventionelle \n",
    "\n",
    "quick_view(structure, conventional=True)\n"
   ]
  },
  {
   "cell_type": "code",
   "execution_count": 107,
   "id": "treated-antibody",
   "metadata": {},
   "outputs": [
    {
     "data": {
      "application/vnd.jupyter.widget-view+json": {
       "model_id": "517625f1cd3746f0a9d62f37ffb305c8",
       "version_major": 2,
       "version_minor": 0
      },
      "text/plain": [
       "JsmolView(layout=Layout(align_self='stretch', height='400px'))"
      ]
     },
     "metadata": {},
     "output_type": "display_data"
    }
   ],
   "source": [
    "#Plot un peu plus large pour visualiser les symétries\n",
    "quick_view(structure, conventional=True, supercell=[3,3,1])\n"
   ]
  },
  {
   "cell_type": "code",
   "execution_count": null,
   "id": "determined-spain",
   "metadata": {},
   "outputs": [],
   "source": []
  }
 ],
 "metadata": {
  "kernelspec": {
   "display_name": "Python 3",
   "language": "python",
   "name": "python3"
  },
  "language_info": {
   "codemirror_mode": {
    "name": "ipython",
    "version": 3
   },
   "file_extension": ".py",
   "mimetype": "text/x-python",
   "name": "python",
   "nbconvert_exporter": "python",
   "pygments_lexer": "ipython3",
   "version": "3.6.8"
  }
 },
 "nbformat": 4,
 "nbformat_minor": 5
}
